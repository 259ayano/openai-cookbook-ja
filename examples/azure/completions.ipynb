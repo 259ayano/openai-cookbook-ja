{
 "cells": [
  {
   "attachments": {},
   "cell_type": "markdown",
   "metadata": {},
   "source": [
    "# Azureの補完の例\n",
    "この例では、Azureエンドポイントを使用して補完を実行するために必要なすべての操作について説明します。 \\\n",
    "ただし、この例は補完に焦点を当てており、APIを使用した他の操作にも触れています。この例は、単純な操作を示すためのクイックな方法として提供されており、チュートリアルではありません。"
   ]
  },
  {
   "cell_type": "code",
   "execution_count": null,
   "metadata": {},
   "outputs": [],
   "source": [
    "import openai"
   ]
  },
  {
   "attachments": {},
   "cell_type": "markdown",
   "metadata": {},
   "source": [
    "## セットアップ\n",
    "以下のセクションが正しく機能するようにするために、いくつかの設定を行う必要があります。まず、api_baseとapi_versionを設定します。api_baseは、https://portal.azure.com にアクセスし、リソースを見つけて、「リソース管理」->「キーとエンドポイント」の下で「エンドポイント」の値を確認することで見つけることができます。"
   ]
  },
  {
   "cell_type": "code",
   "execution_count": null,
   "metadata": {},
   "outputs": [],
   "source": [
    "openai.api_version = '2023-05-15'\n",
    "openai.api_base = '' # Please add your endpoint here"
   ]
  },
  {
   "attachments": {},
   "cell_type": "markdown",
   "metadata": {},
   "source": [
    "次に、api_typeとapi_keyを設定する必要があります。キーをポータルから取得するか、Microsoft Active Directory認証を介して取得することができます。これに応じて、api_typeは「azure」または「azure_ad」のいずれかになります。"
   ]
  },
  {
   "attachments": {},
   "cell_type": "markdown",
   "metadata": {},
   "source": [
    "### セットアップ: ポータル\n",
    "まず、ポータルからキーを取得する方法を見てみましょう。https://portal.azure.com にアクセスし、リソースを見つけて、「リソース管理」->「キーとエンドポイント」の下で「キー」の値を確認します。"
   ]
  },
  {
   "cell_type": "code",
   "execution_count": null,
   "metadata": {},
   "outputs": [],
   "source": [
    "openai.api_type = 'azure'\n",
    "openai.api_key = ''  # Please add your api key here"
   ]
  },
  {
   "attachments": {},
   "cell_type": "markdown",
   "metadata": {},
   "source": [
    "### (オプション) セットアップ: Microsoft Active Directory認証\n",
    "次に、Microsoft Active Directory認証を使用してキーを取得する方法を見てみましょう。ポータルからのキーの代わりにActive Directory認証を使用したい場合は、次のコードのコメントを外してください。"
   ]
  },
  {
   "cell_type": "code",
   "execution_count": null,
   "metadata": {},
   "outputs": [],
   "source": [
    "# from azure.identity import DefaultAzureCredential\n",
    "\n",
    "# default_credential = DefaultAzureCredential()\n",
    "# token = default_credential.get_token(\"https://cognitiveservices.azure.com/.default\")\n",
    "\n",
    "# openai.api_type = 'azure_ad'\n",
    "# openai.api_key = token.token"
   ]
  },
  {
   "attachments": {},
   "cell_type": "markdown",
   "metadata": {},
   "source": [
    "トークンは一定期間有効であり、その後期限切れになります。有効なトークンがすべてのリクエストと共に送信されるようにするために、期限切れのトークンを更新するには、requests.authにフックすることができます。"
   ]
  },
  {
   "cell_type": "code",
   "execution_count": null,
   "metadata": {},
   "outputs": [],
   "source": [
    "import typing\n",
    "import time\n",
    "import requests\n",
    "if typing.TYPE_CHECKING:\n",
    "    from azure.core.credentials import TokenCredential\n",
    "\n",
    "class TokenRefresh(requests.auth.AuthBase):\n",
    "\n",
    "    def __init__(self, credential: \"TokenCredential\", scopes: typing.List[str]) -> None:\n",
    "        self.credential = credential\n",
    "        self.scopes = scopes\n",
    "        self.cached_token: typing.Optional[str] = None\n",
    "\n",
    "    def __call__(self, req):\n",
    "        if not self.cached_token or self.cached_token.expires_on - time.time() < 300:\n",
    "            self.cached_token = self.credential.get_token(*self.scopes)\n",
    "        req.headers[\"Authorization\"] = f\"Bearer {self.cached_token.token}\"\n",
    "        return req\n",
    "\n",
    "session = requests.Session()\n",
    "session.auth = TokenRefresh(default_credential, [\"https://cognitiveservices.azure.com/.default\"])\n",
    "\n",
    "openai.requestssession = session"
   ]
  },
  {
   "attachments": {},
   "cell_type": "markdown",
   "metadata": {},
   "source": [
    "## デプロイメント\n",
    "このセクションでは、text-davinci-002モデルを使用してデプロイメントを作成し、そのデプロイメントを使用して補完を作成します。"
   ]
  },
  {
   "attachments": {},
   "cell_type": "markdown",
   "metadata": {},
   "source": [
    "### デプロイメント: 手動で作成\n",
    "ポータルのリソース内で、「リソース管理」->「モデルのデプロイ」の下にある「新しいデプロイメント」を選択し、text-davinci-002をモデルとして選択して新しいデプロイメントを作成します。"
   ]
  },
  {
   "cell_type": "code",
   "execution_count": null,
   "metadata": {},
   "outputs": [],
   "source": [
    "deployment_id = '' # Fill in the deployment id from the portal here"
   ]
  },
  {
   "attachments": {},
   "cell_type": "markdown",
   "metadata": {},
   "source": [
    "### 補完\n",
    "さて、サンプルの補完をデプロイメントに送信しましょう。"
   ]
  },
  {
   "cell_type": "code",
   "execution_count": null,
   "metadata": {},
   "outputs": [],
   "source": [
    "prompt = \"The food was delicious and the waiter\"\n",
    "completion = openai.Completion.create(deployment_id=deployment_id,\n",
    "                                     prompt=prompt, stop=\".\", temperature=0)\n",
    "                                \n",
    "print(f\"{prompt}{completion['choices'][0]['text']}.\")"
   ]
  }
 ],
 "metadata": {
  "kernelspec": {
   "display_name": "Python 3 (ipykernel)",
   "language": "python",
   "name": "python3"
  },
  "language_info": {
   "codemirror_mode": {
    "name": "ipython",
    "version": 3
   },
   "file_extension": ".py",
   "mimetype": "text/x-python",
   "name": "python",
   "nbconvert_exporter": "python",
   "pygments_lexer": "ipython3",
   "version": "3.11.3"
  },
  "vscode": {
   "interpreter": {
    "hash": "3a5103089ab7e7c666b279eeded403fcec76de49a40685dbdfe9f9c78ad97c17"
   }
  }
 },
 "nbformat": 4,
 "nbformat_minor": 2
}
